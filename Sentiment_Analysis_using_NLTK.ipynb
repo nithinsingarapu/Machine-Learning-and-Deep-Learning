{
  "nbformat": 4,
  "nbformat_minor": 0,
  "metadata": {
    "colab": {
      "provenance": []
    },
    "kernelspec": {
      "name": "python3",
      "display_name": "Python 3"
    },
    "language_info": {
      "name": "python"
    }
  },
  "cells": [
    {
      "cell_type": "markdown",
      "source": [
        "**Using NLTK for Sentiment Analysis in Sentences or Strings**"
      ],
      "metadata": {
        "id": "GufpJGf7N1jx"
      }
    },
    {
      "cell_type": "markdown",
      "source": [
        "> Importing NLTK and Creating an Instance of the Sentiment Analyzer"
      ],
      "metadata": {
        "id": "hJoIbw1OOb0J"
      }
    },
    {
      "cell_type": "code",
      "execution_count": 2,
      "metadata": {
        "colab": {
          "base_uri": "https://localhost:8080/"
        },
        "id": "aX3hWx52Npje",
        "outputId": "fe8b1004-879f-4282-a911-9c4cb13cd3a8"
      },
      "outputs": [
        {
          "output_type": "stream",
          "name": "stderr",
          "text": [
            "[nltk_data] Downloading package vader_lexicon to /root/nltk_data...\n"
          ]
        }
      ],
      "source": [
        "#IMPORTING NLTK\n",
        "import nltk\n",
        "nltk.download('vader_lexicon')\n",
        "from nltk.sentiment import SentimentIntensityAnalyzer\n",
        "\n",
        "# Create an instance of the sentiment analyzer\n",
        "sia = SentimentIntensityAnalyzer()"
      ]
    },
    {
      "cell_type": "markdown",
      "source": [
        ">Providing Input Texts"
      ],
      "metadata": {
        "id": "0eN3FFhWOTIp"
      }
    },
    {
      "cell_type": "code",
      "source": [
        "text1 = \"I like to play golf, it's amazing!\"\n",
        "text2 = \"I dont like this movie, it's amazing!\"\n",
        "text3 = \"I dont like this movie, it's Not amazing!\"\n",
        "text4 = \"I am happy to join the job\"\n",
        "text5= \"I am not ready to join in a job\""
      ],
      "metadata": {
        "id": "2zj8Af5jOKuS"
      },
      "execution_count": 3,
      "outputs": []
    },
    {
      "cell_type": "markdown",
      "source": [
        "> Using Sentiment Analyzer to get polarity scores"
      ],
      "metadata": {
        "id": "PIkYjfO5OwQC"
      }
    },
    {
      "cell_type": "code",
      "source": [
        "scores1 = sia.polarity_scores(text1)\n",
        "scores2= sia.polarity_scores(text2)\n",
        "scores3  = sia.polarity_scores(text3)\n",
        "scores4  = sia.polarity_scores(text4)\n",
        "scores5  = sia.polarity_scores(text5)"
      ],
      "metadata": {
        "id": "ho3qiD4POoVi"
      },
      "execution_count": 4,
      "outputs": []
    },
    {
      "cell_type": "markdown",
      "source": [
        "> Printing the polarity scores for each sentence"
      ],
      "metadata": {
        "id": "Hj7HFQfKPGJi"
      }
    },
    {
      "cell_type": "code",
      "source": [
        "print(\"Sentiment Analysis Results for Text: \", text1)\n",
        "print(\"Negative Score: \", scores1['neg'])\n",
        "print(\"Neutral Score: \", scores1['neu'])\n",
        "print(\"Positive Score: \", scores1['pos'])\n",
        "print(\"Compound Score: \", scores1['compound'])\n",
        "\n",
        "print(\"Sentiment Analysis Results for Text: \", text2)\n",
        "print(\"Negative Score: \", scores2['neg'])\n",
        "print(\"Neutral Score: \", scores2['neu'])\n",
        "print(\"Positive Score: \", scores2['pos'])\n",
        "print(\"Compound Score: \", scores2['compound'])\n",
        "\n",
        "print(\"Sentiment Analysis Results for Text: \", text3)\n",
        "print(\"Negative Score: \", scores3['neg'])\n",
        "print(\"Neutral Score: \", scores3['neu'])\n",
        "print(\"Positive Score: \", scores3['pos'])\n",
        "print(\"Compound Score: \", scores3['compound'])"
      ],
      "metadata": {
        "colab": {
          "base_uri": "https://localhost:8080/"
        },
        "id": "YU49WRa1PBOa",
        "outputId": "3c7e07fb-f4b5-4a9c-e437-5254cb0d1fa3"
      },
      "execution_count": 5,
      "outputs": [
        {
          "output_type": "stream",
          "name": "stdout",
          "text": [
            "Sentiment Analysis Results for Text:  I like to play golf, it's amazing!\n",
            "Negative Score:  0.0\n",
            "Neutral Score:  0.25\n",
            "Positive Score:  0.75\n",
            "Compound Score:  0.8398\n",
            "Sentiment Analysis Results for Text:  I dont like this movie, it's amazing!\n",
            "Negative Score:  0.207\n",
            "Neutral Score:  0.392\n",
            "Positive Score:  0.401\n",
            "Compound Score:  0.4556\n",
            "Sentiment Analysis Results for Text:  I dont like this movie, it's Not amazing!\n",
            "Negative Score:  0.523\n",
            "Neutral Score:  0.477\n",
            "Positive Score:  0.0\n",
            "Compound Score:  -0.6677\n"
          ]
        }
      ]
    }
  ]
}